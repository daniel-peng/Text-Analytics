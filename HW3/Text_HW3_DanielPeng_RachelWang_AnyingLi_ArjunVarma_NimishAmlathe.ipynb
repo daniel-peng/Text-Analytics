{
 "cells": [
  {
   "cell_type": "markdown",
   "metadata": {},
   "source": [
    "## Text Analytics  - Assigment 3\n",
    "\n",
    "Submitted by - Arjun Varma, Nimish Amlathe, Annying Li, Rachel Wang, Daniel Peng"
   ]
  },
  {
   "cell_type": "markdown",
   "metadata": {},
   "source": [
    "### Task A\n",
    "\n",
    "Created weighted and unweighted networks with the sentiment scores using the networkx package. The average positive and negative sentiments were calculated for each car combination as inputs to the pagerank."
   ]
  },
  {
   "cell_type": "code",
   "execution_count": 5,
   "metadata": {
    "collapsed": false
   },
   "outputs": [
    {
     "name": "stderr",
     "output_type": "stream",
     "text": [
      "/Users/pranjor/anaconda/lib/python2.7/site-packages/matplotlib/font_manager.py:273: UserWarning: Matplotlib is building the font cache using fc-list. This may take a moment.\n",
      "  warnings.warn('Matplotlib is building the font cache using fc-list. This may take a moment.')\n"
     ]
    }
   ],
   "source": [
    "import pandas as pd\n",
    "import numpy as np\n",
    "import re\n",
    "import networkx as nx\n",
    "import matplotlib.pyplot as plt\n",
    "from scipy import stats\n",
    "%matplotlib inline"
   ]
  },
  {
   "cell_type": "code",
   "execution_count": 7,
   "metadata": {
    "collapsed": false
   },
   "outputs": [
    {
     "data": {
      "text/html": [
       "<div>\n",
       "<table border=\"1\" class=\"dataframe\">\n",
       "  <thead>\n",
       "    <tr style=\"text-align: right;\">\n",
       "      <th></th>\n",
       "      <th>ES</th>\n",
       "      <th>LS</th>\n",
       "      <th>RX</th>\n",
       "      <th>A8</th>\n",
       "      <th>A6</th>\n",
       "      <th>3series</th>\n",
       "      <th>5series</th>\n",
       "      <th>7series</th>\n",
       "      <th>XJ</th>\n",
       "      <th>Sclass</th>\n",
       "    </tr>\n",
       "  </thead>\n",
       "  <tbody>\n",
       "    <tr>\n",
       "      <th>0</th>\n",
       "      <td>NaN</td>\n",
       "      <td>NaN</td>\n",
       "      <td>4.0</td>\n",
       "      <td>3.0</td>\n",
       "      <td>NaN</td>\n",
       "      <td>NaN</td>\n",
       "      <td>NaN</td>\n",
       "      <td>5.0</td>\n",
       "      <td>2.0</td>\n",
       "      <td>1.0</td>\n",
       "    </tr>\n",
       "    <tr>\n",
       "      <th>1</th>\n",
       "      <td>NaN</td>\n",
       "      <td>NaN</td>\n",
       "      <td>3.0</td>\n",
       "      <td>2.0</td>\n",
       "      <td>2.0</td>\n",
       "      <td>2.0</td>\n",
       "      <td>2.0</td>\n",
       "      <td>2.0</td>\n",
       "      <td>NaN</td>\n",
       "      <td>NaN</td>\n",
       "    </tr>\n",
       "    <tr>\n",
       "      <th>2</th>\n",
       "      <td>NaN</td>\n",
       "      <td>4.0</td>\n",
       "      <td>NaN</td>\n",
       "      <td>NaN</td>\n",
       "      <td>NaN</td>\n",
       "      <td>3.0</td>\n",
       "      <td>NaN</td>\n",
       "      <td>3.0</td>\n",
       "      <td>NaN</td>\n",
       "      <td>3.0</td>\n",
       "    </tr>\n",
       "    <tr>\n",
       "      <th>3</th>\n",
       "      <td>NaN</td>\n",
       "      <td>2.0</td>\n",
       "      <td>NaN</td>\n",
       "      <td>2.0</td>\n",
       "      <td>NaN</td>\n",
       "      <td>NaN</td>\n",
       "      <td>NaN</td>\n",
       "      <td>2.0</td>\n",
       "      <td>4.0</td>\n",
       "      <td>2.0</td>\n",
       "    </tr>\n",
       "    <tr>\n",
       "      <th>4</th>\n",
       "      <td>NaN</td>\n",
       "      <td>3.0</td>\n",
       "      <td>3.0</td>\n",
       "      <td>NaN</td>\n",
       "      <td>NaN</td>\n",
       "      <td>NaN</td>\n",
       "      <td>2.0</td>\n",
       "      <td>NaN</td>\n",
       "      <td>NaN</td>\n",
       "      <td>3.0</td>\n",
       "    </tr>\n",
       "  </tbody>\n",
       "</table>\n",
       "</div>"
      ],
      "text/plain": [
       "   ES   LS   RX   A8   A6  3series  5series  7series   XJ  Sclass\n",
       "0 NaN  NaN  4.0  3.0  NaN      NaN      NaN      5.0  2.0     1.0\n",
       "1 NaN  NaN  3.0  2.0  2.0      2.0      2.0      2.0  NaN     NaN\n",
       "2 NaN  4.0  NaN  NaN  NaN      3.0      NaN      3.0  NaN     3.0\n",
       "3 NaN  2.0  NaN  2.0  NaN      NaN      NaN      2.0  4.0     2.0\n",
       "4 NaN  3.0  3.0  NaN  NaN      NaN      2.0      NaN  NaN     3.0"
      ]
     },
     "execution_count": 7,
     "metadata": {},
     "output_type": "execute_result"
    }
   ],
   "source": [
    "# Loading in the required data\n",
    "ss = pd.read_csv('Assignment 3 Sentiment Scores.csv')\n",
    "ss.head()"
   ]
  },
  {
   "cell_type": "code",
   "execution_count": 8,
   "metadata": {
    "collapsed": false
   },
   "outputs": [
    {
     "data": {
      "text/html": [
       "<div>\n",
       "<table border=\"1\" class=\"dataframe\">\n",
       "  <thead>\n",
       "    <tr style=\"text-align: right;\">\n",
       "      <th></th>\n",
       "      <th>ES</th>\n",
       "      <th>LS</th>\n",
       "      <th>RX</th>\n",
       "      <th>A8</th>\n",
       "      <th>A6</th>\n",
       "      <th>3series</th>\n",
       "      <th>5series</th>\n",
       "      <th>7series</th>\n",
       "      <th>XJ</th>\n",
       "      <th>Sclass</th>\n",
       "      <th>...</th>\n",
       "      <th>3series_5series</th>\n",
       "      <th>3series_7series</th>\n",
       "      <th>3series_XJ</th>\n",
       "      <th>3series_Sclass</th>\n",
       "      <th>5series_7series</th>\n",
       "      <th>5series_XJ</th>\n",
       "      <th>5series_Sclass</th>\n",
       "      <th>7series_XJ</th>\n",
       "      <th>7series_Sclass</th>\n",
       "      <th>XJ_Sclass</th>\n",
       "    </tr>\n",
       "  </thead>\n",
       "  <tbody>\n",
       "    <tr>\n",
       "      <th>0</th>\n",
       "      <td>NaN</td>\n",
       "      <td>NaN</td>\n",
       "      <td>4.0</td>\n",
       "      <td>3.0</td>\n",
       "      <td>NaN</td>\n",
       "      <td>NaN</td>\n",
       "      <td>NaN</td>\n",
       "      <td>5.0</td>\n",
       "      <td>2.0</td>\n",
       "      <td>1.0</td>\n",
       "      <td>...</td>\n",
       "      <td>NaN</td>\n",
       "      <td>NaN</td>\n",
       "      <td>NaN</td>\n",
       "      <td>NaN</td>\n",
       "      <td>NaN</td>\n",
       "      <td>NaN</td>\n",
       "      <td>NaN</td>\n",
       "      <td>3.0</td>\n",
       "      <td>4.0</td>\n",
       "      <td>1.0</td>\n",
       "    </tr>\n",
       "    <tr>\n",
       "      <th>1</th>\n",
       "      <td>NaN</td>\n",
       "      <td>NaN</td>\n",
       "      <td>3.0</td>\n",
       "      <td>2.0</td>\n",
       "      <td>2.0</td>\n",
       "      <td>2.0</td>\n",
       "      <td>2.0</td>\n",
       "      <td>2.0</td>\n",
       "      <td>NaN</td>\n",
       "      <td>NaN</td>\n",
       "      <td>...</td>\n",
       "      <td>0.0</td>\n",
       "      <td>0.0</td>\n",
       "      <td>NaN</td>\n",
       "      <td>NaN</td>\n",
       "      <td>0.0</td>\n",
       "      <td>NaN</td>\n",
       "      <td>NaN</td>\n",
       "      <td>NaN</td>\n",
       "      <td>NaN</td>\n",
       "      <td>NaN</td>\n",
       "    </tr>\n",
       "    <tr>\n",
       "      <th>2</th>\n",
       "      <td>NaN</td>\n",
       "      <td>4.0</td>\n",
       "      <td>NaN</td>\n",
       "      <td>NaN</td>\n",
       "      <td>NaN</td>\n",
       "      <td>3.0</td>\n",
       "      <td>NaN</td>\n",
       "      <td>3.0</td>\n",
       "      <td>NaN</td>\n",
       "      <td>3.0</td>\n",
       "      <td>...</td>\n",
       "      <td>NaN</td>\n",
       "      <td>0.0</td>\n",
       "      <td>NaN</td>\n",
       "      <td>0.0</td>\n",
       "      <td>NaN</td>\n",
       "      <td>NaN</td>\n",
       "      <td>NaN</td>\n",
       "      <td>NaN</td>\n",
       "      <td>0.0</td>\n",
       "      <td>NaN</td>\n",
       "    </tr>\n",
       "    <tr>\n",
       "      <th>3</th>\n",
       "      <td>NaN</td>\n",
       "      <td>2.0</td>\n",
       "      <td>NaN</td>\n",
       "      <td>2.0</td>\n",
       "      <td>NaN</td>\n",
       "      <td>NaN</td>\n",
       "      <td>NaN</td>\n",
       "      <td>2.0</td>\n",
       "      <td>4.0</td>\n",
       "      <td>2.0</td>\n",
       "      <td>...</td>\n",
       "      <td>NaN</td>\n",
       "      <td>NaN</td>\n",
       "      <td>NaN</td>\n",
       "      <td>NaN</td>\n",
       "      <td>NaN</td>\n",
       "      <td>NaN</td>\n",
       "      <td>NaN</td>\n",
       "      <td>-2.0</td>\n",
       "      <td>0.0</td>\n",
       "      <td>2.0</td>\n",
       "    </tr>\n",
       "    <tr>\n",
       "      <th>4</th>\n",
       "      <td>NaN</td>\n",
       "      <td>3.0</td>\n",
       "      <td>3.0</td>\n",
       "      <td>NaN</td>\n",
       "      <td>NaN</td>\n",
       "      <td>NaN</td>\n",
       "      <td>2.0</td>\n",
       "      <td>NaN</td>\n",
       "      <td>NaN</td>\n",
       "      <td>3.0</td>\n",
       "      <td>...</td>\n",
       "      <td>NaN</td>\n",
       "      <td>NaN</td>\n",
       "      <td>NaN</td>\n",
       "      <td>NaN</td>\n",
       "      <td>NaN</td>\n",
       "      <td>NaN</td>\n",
       "      <td>-1.0</td>\n",
       "      <td>NaN</td>\n",
       "      <td>NaN</td>\n",
       "      <td>NaN</td>\n",
       "    </tr>\n",
       "  </tbody>\n",
       "</table>\n",
       "<p>5 rows × 55 columns</p>\n",
       "</div>"
      ],
      "text/plain": [
       "   ES   LS   RX   A8   A6  3series  5series  7series   XJ  Sclass    ...      \\\n",
       "0 NaN  NaN  4.0  3.0  NaN      NaN      NaN      5.0  2.0     1.0    ...       \n",
       "1 NaN  NaN  3.0  2.0  2.0      2.0      2.0      2.0  NaN     NaN    ...       \n",
       "2 NaN  4.0  NaN  NaN  NaN      3.0      NaN      3.0  NaN     3.0    ...       \n",
       "3 NaN  2.0  NaN  2.0  NaN      NaN      NaN      2.0  4.0     2.0    ...       \n",
       "4 NaN  3.0  3.0  NaN  NaN      NaN      2.0      NaN  NaN     3.0    ...       \n",
       "\n",
       "   3series_5series  3series_7series  3series_XJ  3series_Sclass  \\\n",
       "0              NaN              NaN         NaN             NaN   \n",
       "1              0.0              0.0         NaN             NaN   \n",
       "2              NaN              0.0         NaN             0.0   \n",
       "3              NaN              NaN         NaN             NaN   \n",
       "4              NaN              NaN         NaN             NaN   \n",
       "\n",
       "   5series_7series  5series_XJ  5series_Sclass  7series_XJ  7series_Sclass  \\\n",
       "0              NaN         NaN             NaN         3.0             4.0   \n",
       "1              0.0         NaN             NaN         NaN             NaN   \n",
       "2              NaN         NaN             NaN         NaN             0.0   \n",
       "3              NaN         NaN             NaN        -2.0             0.0   \n",
       "4              NaN         NaN            -1.0         NaN             NaN   \n",
       "\n",
       "   XJ_Sclass  \n",
       "0        1.0  \n",
       "1        NaN  \n",
       "2        NaN  \n",
       "3        2.0  \n",
       "4        NaN  \n",
       "\n",
       "[5 rows x 55 columns]"
      ]
     },
     "execution_count": 8,
     "metadata": {},
     "output_type": "execute_result"
    }
   ],
   "source": [
    "senti = ss.copy()\n",
    "\n",
    "# Adding car combinations to the dataframe with the difference in sentiments as the values\n",
    "for i in range(len(ss.columns)):\n",
    "    for ii in range(i+1,len(ss.columns)):\n",
    "            temp = ss.columns[i] +'_'+ss.columns[ii]\n",
    "            senti[temp]=ss[ss.columns[i]]-ss[ss.columns[ii]]\n",
    "\n",
    "senti.head()"
   ]
  },
  {
   "cell_type": "code",
   "execution_count": 9,
   "metadata": {
    "collapsed": false
   },
   "outputs": [
    {
     "data": {
      "text/plain": [
       "[('ES', 'LS', 1.1666666666666667, -2.0),\n",
       " ('ES', 'RX', 1.6666666666666667, -2.0),\n",
       " ('ES', 'A8', 3.4, -3.0),\n",
       " ('ES', 'A6', 6.0, -1.6666666666666667),\n",
       " ('ES', '3series', 3.25, -6.0),\n",
       " ('ES', '5series', 4.0, -5.0),\n",
       " ('ES', '7series', 3.6, -2.8),\n",
       " ('ES', 'XJ', 1.0, -1.0),\n",
       " ('ES', 'Sclass', 3.2857142857142856, -2.6153846153846154),\n",
       " ('LS', 'RX', 3.4, -1.1428571428571428)]"
      ]
     },
     "execution_count": 9,
     "metadata": {},
     "output_type": "execute_result"
    }
   ],
   "source": [
    "# Creating tuples of car1, car2, positive sentiment and negative sentiment\n",
    "use = []\n",
    "for q in senti.columns[10:]:\n",
    "    p1,p2 = re.split('_',q)\n",
    "    neg = (senti[q]<0)\n",
    "    neg_sent  = senti[q][neg].sum()/senti[q][neg].count()\n",
    "    pos = (senti[q]>0)\n",
    "    pos_sent  = senti[q][pos].sum()/senti[q][pos].count()\n",
    "    use.append((p1,p2,pos_sent,neg_sent))\n",
    "\n",
    "use[:10]"
   ]
  },
  {
   "cell_type": "code",
   "execution_count": 10,
   "metadata": {
    "collapsed": false,
    "scrolled": true
   },
   "outputs": [
    {
     "data": {
      "image/png": "[encoded data removed]",
      "text/plain": [
       "<matplotlib.figure.Figure at 0x117ad33d0>"
      ]
     },
     "metadata": {},
     "output_type": "display_data"
    }
   ],
   "source": [
    "# Creating the weighted network\n",
    "G = nx.DiGraph()\n",
    "\n",
    "G.add_nodes_from(ss.columns)\n",
    "\n",
    "for a,b,pos,neg in use:\n",
    "    if pos!=0 :\n",
    "        G.add_edge(b,a,{'weight':pos})\n",
    "    if neg!=0:\n",
    "        G.add_edge(a,b,{'weight':abs(neg)})\n",
    "        \n",
    "plt.figure()\n",
    "nx.draw(G, with_labels=True)\n",
    "plt.show()"
   ]
  },
  {
   "cell_type": "code",
   "execution_count": 11,
   "metadata": {
    "collapsed": false
   },
   "outputs": [
    {
     "data": {
      "image/png": "[encoded data removed]",
      "text/plain": [
       "<matplotlib.figure.Figure at 0x117af7750>"
      ]
     },
     "metadata": {},
     "output_type": "display_data"
    }
   ],
   "source": [
    "# Creating the unweighted network\n",
    "G2 = nx.DiGraph()\n",
    "\n",
    "G2.add_nodes_from(ss.columns)\n",
    "\n",
    "for a,b,pos,neg in use:\n",
    "    if pos!=0 :\n",
    "        G2.add_edge(b,a)\n",
    "    if neg!=0:\n",
    "        G2.add_edge(a,b)\n",
    "        \n",
    "plt.figure()\n",
    "nx.draw(G2, with_labels=True)\n",
    "plt.show()"
   ]
  },
  {
   "cell_type": "markdown",
   "metadata": {},
   "source": [
    "### Task B\n",
    "\n",
    "Weighted and unweighted pageranks were calculated for the cars to determine their correlation with sales."
   ]
  },
  {
   "cell_type": "code",
   "execution_count": 12,
   "metadata": {
    "collapsed": false,
    "scrolled": false
   },
   "outputs": [
    {
     "data": {
      "text/html": [
       "<div>\n",
       "<table border=\"1\" class=\"dataframe\">\n",
       "  <thead>\n",
       "    <tr style=\"text-align: right;\">\n",
       "      <th></th>\n",
       "      <th>Model</th>\n",
       "      <th>pr</th>\n",
       "    </tr>\n",
       "  </thead>\n",
       "  <tbody>\n",
       "    <tr>\n",
       "      <th>0</th>\n",
       "      <td>XJ</td>\n",
       "      <td>0.071172</td>\n",
       "    </tr>\n",
       "    <tr>\n",
       "      <th>1</th>\n",
       "      <td>Sclass</td>\n",
       "      <td>0.104550</td>\n",
       "    </tr>\n",
       "    <tr>\n",
       "      <th>2</th>\n",
       "      <td>7series</td>\n",
       "      <td>0.100471</td>\n",
       "    </tr>\n",
       "    <tr>\n",
       "      <th>3</th>\n",
       "      <td>RX</td>\n",
       "      <td>0.106356</td>\n",
       "    </tr>\n",
       "    <tr>\n",
       "      <th>4</th>\n",
       "      <td>LS</td>\n",
       "      <td>0.112985</td>\n",
       "    </tr>\n",
       "    <tr>\n",
       "      <th>5</th>\n",
       "      <td>A6</td>\n",
       "      <td>0.066700</td>\n",
       "    </tr>\n",
       "    <tr>\n",
       "      <th>6</th>\n",
       "      <td>A8</td>\n",
       "      <td>0.098622</td>\n",
       "    </tr>\n",
       "    <tr>\n",
       "      <th>7</th>\n",
       "      <td>3series</td>\n",
       "      <td>0.142455</td>\n",
       "    </tr>\n",
       "    <tr>\n",
       "      <th>8</th>\n",
       "      <td>ES</td>\n",
       "      <td>0.110495</td>\n",
       "    </tr>\n",
       "    <tr>\n",
       "      <th>9</th>\n",
       "      <td>5series</td>\n",
       "      <td>0.086194</td>\n",
       "    </tr>\n",
       "  </tbody>\n",
       "</table>\n",
       "</div>"
      ],
      "text/plain": [
       "     Model        pr\n",
       "0       XJ  0.071172\n",
       "1   Sclass  0.104550\n",
       "2  7series  0.100471\n",
       "3       RX  0.106356\n",
       "4       LS  0.112985\n",
       "5       A6  0.066700\n",
       "6       A8  0.098622\n",
       "7  3series  0.142455\n",
       "8       ES  0.110495\n",
       "9  5series  0.086194"
      ]
     },
     "execution_count": 12,
     "metadata": {},
     "output_type": "execute_result"
    }
   ],
   "source": [
    "# Weighted pagerank\n",
    "pr = nx.pagerank(G, alpha=1,weight='weight') # damping factor set to 1 since it is not applicable in case of reviews\n",
    "pr_df = pd.DataFrame.from_dict(pr,orient='index')\n",
    "pr_df = pr_df.reset_index()\n",
    "pr_df.columns=['Model','pr']\n",
    "pr_df"
   ]
  },
  {
   "cell_type": "code",
   "execution_count": 14,
   "metadata": {
    "collapsed": false,
    "scrolled": true
   },
   "outputs": [
    {
     "data": {
      "text/html": [
       "<div>\n",
       "<table border=\"1\" class=\"dataframe\">\n",
       "  <thead>\n",
       "    <tr style=\"text-align: right;\">\n",
       "      <th></th>\n",
       "      <th>Model</th>\n",
       "      <th>Sales</th>\n",
       "      <th>pr</th>\n",
       "    </tr>\n",
       "  </thead>\n",
       "  <tbody>\n",
       "    <tr>\n",
       "      <th>0</th>\n",
       "      <td>A6</td>\n",
       "      <td>20000</td>\n",
       "      <td>0.066700</td>\n",
       "    </tr>\n",
       "    <tr>\n",
       "      <th>1</th>\n",
       "      <td>A8</td>\n",
       "      <td>12000</td>\n",
       "      <td>0.098622</td>\n",
       "    </tr>\n",
       "    <tr>\n",
       "      <th>2</th>\n",
       "      <td>3series</td>\n",
       "      <td>220000</td>\n",
       "      <td>0.142455</td>\n",
       "    </tr>\n",
       "    <tr>\n",
       "      <th>3</th>\n",
       "      <td>5series</td>\n",
       "      <td>60000</td>\n",
       "      <td>0.086194</td>\n",
       "    </tr>\n",
       "    <tr>\n",
       "      <th>4</th>\n",
       "      <td>7series</td>\n",
       "      <td>14000</td>\n",
       "      <td>0.100471</td>\n",
       "    </tr>\n",
       "    <tr>\n",
       "      <th>5</th>\n",
       "      <td>XJ</td>\n",
       "      <td>6600</td>\n",
       "      <td>0.071172</td>\n",
       "    </tr>\n",
       "    <tr>\n",
       "      <th>6</th>\n",
       "      <td>ES</td>\n",
       "      <td>135000</td>\n",
       "      <td>0.110495</td>\n",
       "    </tr>\n",
       "    <tr>\n",
       "      <th>7</th>\n",
       "      <td>LS</td>\n",
       "      <td>30000</td>\n",
       "      <td>0.112985</td>\n",
       "    </tr>\n",
       "    <tr>\n",
       "      <th>8</th>\n",
       "      <td>RX</td>\n",
       "      <td>120000</td>\n",
       "      <td>0.106356</td>\n",
       "    </tr>\n",
       "    <tr>\n",
       "      <th>9</th>\n",
       "      <td>Sclass</td>\n",
       "      <td>25000</td>\n",
       "      <td>0.104550</td>\n",
       "    </tr>\n",
       "  </tbody>\n",
       "</table>\n",
       "</div>"
      ],
      "text/plain": [
       "     Model   Sales        pr\n",
       "0       A6   20000  0.066700\n",
       "1       A8   12000  0.098622\n",
       "2  3series  220000  0.142455\n",
       "3  5series   60000  0.086194\n",
       "4  7series   14000  0.100471\n",
       "5       XJ    6600  0.071172\n",
       "6       ES  135000  0.110495\n",
       "7       LS   30000  0.112985\n",
       "8       RX  120000  0.106356\n",
       "9   Sclass   25000  0.104550"
      ]
     },
     "execution_count": 14,
     "metadata": {},
     "output_type": "execute_result"
    }
   ],
   "source": [
    "# Merging the sales with the pageranks\n",
    "cs = pd.read_csv('car_sales.csv')\n",
    "cs = cs.merge(pr_df)\n",
    "cs"
   ]
  },
  {
   "cell_type": "code",
   "execution_count": 16,
   "metadata": {
    "collapsed": false
   },
   "outputs": [
    {
     "name": "stdout",
     "output_type": "stream",
     "text": [
      "          Sales        pr\n",
      "Sales  1.000000  0.739425\n",
      "pr     0.739425  1.000000\n"
     ]
    },
    {
     "data": {
      "text/plain": [
       "SpearmanrResult(correlation=0.72121212121212108, pvalue=0.018573155089460208)"
      ]
     },
     "execution_count": 16,
     "metadata": {},
     "output_type": "execute_result"
    }
   ],
   "source": [
    "# Checking Pearson and Spearman correlations\n",
    "import scipy\n",
    "print cs.corr()\n",
    "scipy.stats.spearmanr(cs['pr'], cs['Sales'])"
   ]
  },
  {
   "cell_type": "code",
   "execution_count": 17,
   "metadata": {
    "collapsed": false
   },
   "outputs": [
    {
     "data": {
      "text/plain": [
       "<matplotlib.text.Text at 0x11a4fff10>"
      ]
     },
     "execution_count": 17,
     "metadata": {},
     "output_type": "execute_result"
    },
    {
     "data": {
      "image/png": "[encoded data removed]",
      "text/plain": [
       "<matplotlib.figure.Figure at 0x11a6439d0>"
      ]
     },
     "metadata": {},
     "output_type": "display_data"
    }
   ],
   "source": [
    "# Observing relationship between page rank and sales\n",
    "plt.plot(cs['pr'], cs['Sales'], marker='o', linestyle='')\n",
    "plt.xlabel(\"PageRank (W)\")\n",
    "plt.ylabel(\"Sales\")"
   ]
  },
  {
   "cell_type": "code",
   "execution_count": 18,
   "metadata": {
    "collapsed": false,
    "scrolled": false
   },
   "outputs": [
    {
     "data": {
      "text/html": [
       "<div>\n",
       "<table border=\"1\" class=\"dataframe\">\n",
       "  <thead>\n",
       "    <tr style=\"text-align: right;\">\n",
       "      <th></th>\n",
       "      <th>Model</th>\n",
       "      <th>pr2</th>\n",
       "    </tr>\n",
       "  </thead>\n",
       "  <tbody>\n",
       "    <tr>\n",
       "      <th>0</th>\n",
       "      <td>XJ</td>\n",
       "      <td>0.084499</td>\n",
       "    </tr>\n",
       "    <tr>\n",
       "      <th>1</th>\n",
       "      <td>Sclass</td>\n",
       "      <td>0.112254</td>\n",
       "    </tr>\n",
       "    <tr>\n",
       "      <th>2</th>\n",
       "      <td>7series</td>\n",
       "      <td>0.110868</td>\n",
       "    </tr>\n",
       "    <tr>\n",
       "      <th>3</th>\n",
       "      <td>RX</td>\n",
       "      <td>0.106909</td>\n",
       "    </tr>\n",
       "    <tr>\n",
       "      <th>4</th>\n",
       "      <td>LS</td>\n",
       "      <td>0.112254</td>\n",
       "    </tr>\n",
       "    <tr>\n",
       "      <th>5</th>\n",
       "      <td>A6</td>\n",
       "      <td>0.082711</td>\n",
       "    </tr>\n",
       "    <tr>\n",
       "      <th>6</th>\n",
       "      <td>A8</td>\n",
       "      <td>0.112254</td>\n",
       "    </tr>\n",
       "    <tr>\n",
       "      <th>7</th>\n",
       "      <td>3series</td>\n",
       "      <td>0.091907</td>\n",
       "    </tr>\n",
       "    <tr>\n",
       "      <th>8</th>\n",
       "      <td>ES</td>\n",
       "      <td>0.112254</td>\n",
       "    </tr>\n",
       "    <tr>\n",
       "      <th>9</th>\n",
       "      <td>5series</td>\n",
       "      <td>0.074089</td>\n",
       "    </tr>\n",
       "  </tbody>\n",
       "</table>\n",
       "</div>"
      ],
      "text/plain": [
       "     Model       pr2\n",
       "0       XJ  0.084499\n",
       "1   Sclass  0.112254\n",
       "2  7series  0.110868\n",
       "3       RX  0.106909\n",
       "4       LS  0.112254\n",
       "5       A6  0.082711\n",
       "6       A8  0.112254\n",
       "7  3series  0.091907\n",
       "8       ES  0.112254\n",
       "9  5series  0.074089"
      ]
     },
     "execution_count": 18,
     "metadata": {},
     "output_type": "execute_result"
    }
   ],
   "source": [
    "# Unweighted pagerank\n",
    "pr2 = nx.pagerank(G2, alpha=1,weight='weight')\n",
    "pr2_df = pd.DataFrame.from_dict(pr2,orient='index')\n",
    "pr2_df = pr2_df.reset_index()\n",
    "pr2_df.columns=['Model','pr2']\n",
    "pr2_df"
   ]
  },
  {
   "cell_type": "code",
   "execution_count": 19,
   "metadata": {
    "collapsed": false,
    "scrolled": true
   },
   "outputs": [
    {
     "data": {
      "text/html": [
       "<div>\n",
       "<table border=\"1\" class=\"dataframe\">\n",
       "  <thead>\n",
       "    <tr style=\"text-align: right;\">\n",
       "      <th></th>\n",
       "      <th>Model</th>\n",
       "      <th>Sales</th>\n",
       "      <th>pr2</th>\n",
       "    </tr>\n",
       "  </thead>\n",
       "  <tbody>\n",
       "    <tr>\n",
       "      <th>0</th>\n",
       "      <td>A6</td>\n",
       "      <td>20000</td>\n",
       "      <td>0.082711</td>\n",
       "    </tr>\n",
       "    <tr>\n",
       "      <th>1</th>\n",
       "      <td>A8</td>\n",
       "      <td>12000</td>\n",
       "      <td>0.112254</td>\n",
       "    </tr>\n",
       "    <tr>\n",
       "      <th>2</th>\n",
       "      <td>3series</td>\n",
       "      <td>220000</td>\n",
       "      <td>0.091907</td>\n",
       "    </tr>\n",
       "    <tr>\n",
       "      <th>3</th>\n",
       "      <td>5series</td>\n",
       "      <td>60000</td>\n",
       "      <td>0.074089</td>\n",
       "    </tr>\n",
       "    <tr>\n",
       "      <th>4</th>\n",
       "      <td>7series</td>\n",
       "      <td>14000</td>\n",
       "      <td>0.110868</td>\n",
       "    </tr>\n",
       "    <tr>\n",
       "      <th>5</th>\n",
       "      <td>XJ</td>\n",
       "      <td>6600</td>\n",
       "      <td>0.084499</td>\n",
       "    </tr>\n",
       "    <tr>\n",
       "      <th>6</th>\n",
       "      <td>ES</td>\n",
       "      <td>135000</td>\n",
       "      <td>0.112254</td>\n",
       "    </tr>\n",
       "    <tr>\n",
       "      <th>7</th>\n",
       "      <td>LS</td>\n",
       "      <td>30000</td>\n",
       "      <td>0.112254</td>\n",
       "    </tr>\n",
       "    <tr>\n",
       "      <th>8</th>\n",
       "      <td>RX</td>\n",
       "      <td>120000</td>\n",
       "      <td>0.106909</td>\n",
       "    </tr>\n",
       "    <tr>\n",
       "      <th>9</th>\n",
       "      <td>Sclass</td>\n",
       "      <td>25000</td>\n",
       "      <td>0.112254</td>\n",
       "    </tr>\n",
       "  </tbody>\n",
       "</table>\n",
       "</div>"
      ],
      "text/plain": [
       "     Model   Sales       pr2\n",
       "0       A6   20000  0.082711\n",
       "1       A8   12000  0.112254\n",
       "2  3series  220000  0.091907\n",
       "3  5series   60000  0.074089\n",
       "4  7series   14000  0.110868\n",
       "5       XJ    6600  0.084499\n",
       "6       ES  135000  0.112254\n",
       "7       LS   30000  0.112254\n",
       "8       RX  120000  0.106909\n",
       "9   Sclass   25000  0.112254"
      ]
     },
     "execution_count": 19,
     "metadata": {},
     "output_type": "execute_result"
    }
   ],
   "source": [
    "# Merging the sales with the pageranks\n",
    "cs2 = pd.read_csv('car_sales.csv')\n",
    "cs2 = cs2.merge(pr2_df)\n",
    "cs2"
   ]
  },
  {
   "cell_type": "code",
   "execution_count": 20,
   "metadata": {
    "collapsed": false
   },
   "outputs": [
    {
     "name": "stdout",
     "output_type": "stream",
     "text": [
      "          Sales       pr2\n",
      "Sales  1.000000 -0.033835\n",
      "pr2   -0.033835  1.000000\n"
     ]
    },
    {
     "data": {
      "text/plain": [
       "SpearmanrResult(correlation=0.0062530539948072242, pvalue=0.986321979214696)"
      ]
     },
     "execution_count": 20,
     "metadata": {},
     "output_type": "execute_result"
    }
   ],
   "source": [
    "# Checking Pearson and Spearman correlations\n",
    "print cs2.corr()\n",
    "scipy.stats.spearmanr(cs2['pr2'], cs2['Sales'])"
   ]
  },
  {
   "cell_type": "code",
   "execution_count": 21,
   "metadata": {
    "collapsed": false
   },
   "outputs": [
    {
     "data": {
      "text/plain": [
       "<matplotlib.text.Text at 0x11a7b0890>"
      ]
     },
     "execution_count": 21,
     "metadata": {},
     "output_type": "execute_result"
    },
    {
     "data": {
      "image/png": "[encoded data removed]",
      "text/plain": [
       "<matplotlib.figure.Figure at 0x117af7e50>"
      ]
     },
     "metadata": {},
     "output_type": "display_data"
    }
   ],
   "source": [
    "# Observing relationship between page rank and sales\n",
    "plt.plot(cs2['pr2'], cs2['Sales'], marker='o', linestyle='')\n",
    "plt.xlabel(\"PageRank (UW)\")\n",
    "plt.ylabel(\"Sales\")"
   ]
  },
  {
   "cell_type": "markdown",
   "metadata": {},
   "source": [
    "From the above, we can see that the weighted pagerank scores obtained from car reviews are strong indicators of their sales performance. Unweighted pagerank shows little to no indication. This is because weighted page ranks also capture how much better/worse one car is over another rather than assigning equal weights to every link."
   ]
  },
  {
   "cell_type": "markdown",
   "metadata": {},
   "source": [
    "### Task C"
   ]
  },
  {
   "cell_type": "code",
   "execution_count": 22,
   "metadata": {
    "collapsed": false
   },
   "outputs": [],
   "source": [
    "import pandas as pd\n",
    "edmund = pd.read_csv('Assignment 3 Edmunds Posts.csv')"
   ]
  },
  {
   "cell_type": "code",
   "execution_count": 23,
   "metadata": {
    "collapsed": true
   },
   "outputs": [],
   "source": [
    "bmw = {'bmw3':'3series','bmw5':'5series','bmw7':'7series',\n",
    "       'bmw 3':'3series','bmw 5':'5series','bmw 7':'7series','3 series':'3series','5 series':'5series','7 series':'7series'}\n",
    "\n",
    "rep_dic = {'sc':'sclass','lexusls':'ls','lexuses':'es','mb':'mercedes','benz':'mercedes',\"n't\":'not'}\n",
    "\n",
    "def repl(w,car_type_list):\n",
    "#reviewers often refer to a specific car type by its brand; \n",
    "#if a reviewer only mentions 1 car type in a given brand within the same review, map the brand name into the car type\n",
    "    l = []\n",
    "    for ww in w:\n",
    "        if ww in car_brand.keys() and len(set(car_brand[ww]).intersection(car_type_list))==1:\n",
    "            l.append(list(set(car_brand[ww]).intersection(car_type_list))[0])\n",
    "        else:\n",
    "            l.append(ww)\n",
    "    return l\n",
    "\n",
    "def repl2(w):\n",
    "#standardizing the name of car types and brands\n",
    "    l=[]\n",
    "    for ww in w:\n",
    "        if ww in rep_dic.keys():\n",
    "                l.append(rep_dic[ww])\n",
    "        else:\n",
    "                l.append(ww)\n",
    "    return l\n",
    "\n",
    "def multi_replace(text, dictionary):\n",
    "#the phrases that reviewers use to describe specific BMW car types often contain spaces (eg: 7 series); \n",
    "#these phrases might be seperated when tokenized\n",
    "#replacing BMW car types with 3series/5series/7series before tokenization to prevent them from being separated\n",
    "    for i, j in dictionary.iteritems():\n",
    "        text = text.replace(i, j)\n",
    "    return text"
   ]
  },
  {
   "cell_type": "code",
   "execution_count": 24,
   "metadata": {
    "collapsed": true
   },
   "outputs": [],
   "source": [
    "#for each reivew, take out punctuation and stop words, and lemmentize\n",
    "#if a car type is in the review, sum up the sentiments of 5 words before and after it\n",
    "#the sum is the sentiment score of the car type in that review\n",
    "\n",
    "\n",
    "from textblob import TextBlob\n",
    "import re\n",
    "import string\n",
    "\n",
    "import nltk\n",
    "from nltk import word_tokenize\n",
    "from nltk.corpus import stopwords\n",
    "from nltk.stem.wordnet import WordNetLemmatizer\n",
    "wnl = WordNetLemmatizer()\n",
    "\n",
    "\n",
    "car_type = ['es','ls','rx','a8','a6','3series','5series','7series','xj','sclass']\n",
    "car_brand={'audi':['a6','a8'],'bmw':['3series','5series','7series'],'jaguar':'xj','lexus':['es','ls','rx'],'mercedes':'sclass'}\n",
    "total_score = []\n",
    "\n",
    "for review in edmund['Posts']:\n",
    "    score = []\n",
    "    words_lem = []\n",
    "    review = multi_replace(review,bmw)\n",
    "    review = re.sub('-','',review)\n",
    "    #change words such as 3-series into 3series before tokenization\n",
    "    review = nltk.word_tokenize(review.lower())\n",
    "    review_words = [word for word in review if word not in set(string.punctuation)]\n",
    "    filtered_words_sw = [word for word in review_words if word not in stopwords.words('english')]\n",
    "    filtered_words_sw = repl2(filtered_words_sw)\n",
    "    car_type_list=[]\n",
    "    for u in filtered_words_sw:\n",
    "        if u in car_type:\n",
    "            car_type_list.append(u)\n",
    "    filtered_words_sw =  repl(filtered_words_sw,car_type_list)\n",
    "    filtered_poi = nltk.pos_tag(filtered_words_sw)\n",
    "    wordnet_tag ={'NN':'n','JJ':'a','VB':'v','RB':'r'}\n",
    "    for t in filtered_poi:\n",
    "        try: words_lem.append(wnl.lemmatize(t[0],wordnet_tag[t[1][:2]]))\n",
    "        except: words_lem.append(wnl.lemmatize(t[0]))\n",
    "    #lemmatize words according to their PoS \n",
    "    for m in car_type:\n",
    "        if m in words_lem:\n",
    "                m_indices = [i for i, x in enumerate(words_lem) if x == m]\n",
    "                m_senti = 0\n",
    "                for num in m_indices:\n",
    "                    if num <len(words_lem)-5:\n",
    "                        m_string = ' '.join(words_lem[num-5:num+5])\n",
    "                        m_senti += TextBlob(m_string).sentiment.polarity\n",
    "                    else:\n",
    "                        m_string = ' '.join(words_lem[num-5:])\n",
    "                        m_senti += TextBlob(m_string).sentiment.polarity\n",
    "                senti=m_senti\n",
    "        else:\n",
    "            senti = 0\n",
    "        score.append(senti)\n",
    "    \n",
    "    total_score.append(score)"
   ]
  },
  {
   "cell_type": "code",
   "execution_count": 27,
   "metadata": {
    "collapsed": false
   },
   "outputs": [],
   "source": [
    "#After sentiment scores are generated for all the reviews and built into a table, \n",
    "#they are fed into the same prcoess in part b to calculate PageRank\n",
    "\n",
    "score_df = pd.DataFrame(total_score)\n",
    "score_df.columns=['ES','LS','RX','A8','A6','3series','5series','7series','XJ','Sclass']\n",
    "score_diff = score_df.copy()\n",
    "for i in range(len(score_df.columns)):\n",
    "    for ii in range(i+1,len(score_df.columns)):\n",
    "            temp = score_df.columns[i] +'_'+score_df.columns[ii]\n",
    "            score_diff[temp]=score_df[score_df.columns[i]]-score_df[score_df.columns[ii]]"
   ]
  },
  {
   "cell_type": "code",
   "execution_count": 28,
   "metadata": {
    "collapsed": true
   },
   "outputs": [],
   "source": [
    "use_new = []\n",
    "for q in score_diff.columns[10:]:\n",
    "    p1,p2 = re.split('_',q)\n",
    "    neg = (score_diff[q]<0)\n",
    "    neg_sent  = score_diff[q][neg].sum()/score_diff[q][neg].count()\n",
    "    pos = (score_diff[q]>0)\n",
    "    pos_sent  = score_diff[q][pos].sum()/score_diff[q][pos].count()\n",
    "    use_new.append((p1,p2,pos_sent,neg_sent))"
   ]
  },
  {
   "cell_type": "code",
   "execution_count": 29,
   "metadata": {
    "collapsed": false
   },
   "outputs": [
    {
     "data": {
      "image/png": "[encoded data removed]",
      "text/plain": [
       "<matplotlib.figure.Figure at 0x11ab1b090>"
      ]
     },
     "metadata": {},
     "output_type": "display_data"
    }
   ],
   "source": [
    "import matplotlib.pyplot as plt\n",
    "%matplotlib inline\n",
    "\n",
    "import networkx as nx\n",
    "G = nx.DiGraph()\n",
    "\n",
    "G.add_nodes_from(score_df.columns)\n",
    "\n",
    "for a,b,pos,neg in use_new:\n",
    "    if pos!=0 :\n",
    "        G.add_edge(b,a,{'weight':pos})\n",
    "    if neg!=0:\n",
    "        G.add_edge(a,b,{'weight':abs(neg)})\n",
    "        \n",
    "plt.figure()\n",
    "nx.draw(G, with_labels=True)\n",
    "plt.show()"
   ]
  },
  {
   "cell_type": "code",
   "execution_count": 31,
   "metadata": {
    "collapsed": false
   },
   "outputs": [],
   "source": [
    "pr_new = nx.pagerank(G, alpha=1,weight='weight')\n",
    "pr_new_df = pd.DataFrame.from_dict(pr_new,orient='index')\n",
    "pr_new_df = pr_new_df.reset_index()\n",
    "pr_new_df.columns=['Model','pr']\n",
    "cs_new = pd.read_csv('car_sales.csv')\n",
    "cs_new = cs_new.merge(pr_new_df)"
   ]
  },
  {
   "cell_type": "code",
   "execution_count": 32,
   "metadata": {
    "collapsed": false
   },
   "outputs": [
    {
     "data": {
      "text/html": [
       "<div>\n",
       "<table border=\"1\" class=\"dataframe\">\n",
       "  <thead>\n",
       "    <tr style=\"text-align: right;\">\n",
       "      <th></th>\n",
       "      <th>Sales</th>\n",
       "      <th>pr</th>\n",
       "    </tr>\n",
       "  </thead>\n",
       "  <tbody>\n",
       "    <tr>\n",
       "      <th>Sales</th>\n",
       "      <td>1.000000</td>\n",
       "      <td>0.611037</td>\n",
       "    </tr>\n",
       "    <tr>\n",
       "      <th>pr</th>\n",
       "      <td>0.611037</td>\n",
       "      <td>1.000000</td>\n",
       "    </tr>\n",
       "  </tbody>\n",
       "</table>\n",
       "</div>"
      ],
      "text/plain": [
       "          Sales        pr\n",
       "Sales  1.000000  0.611037\n",
       "pr     0.611037  1.000000"
      ]
     },
     "execution_count": 32,
     "metadata": {},
     "output_type": "execute_result"
    }
   ],
   "source": [
    "cs_new[['Sales','pr']].corr(method='pearson', min_periods=1)"
   ]
  },
  {
   "cell_type": "code",
   "execution_count": 33,
   "metadata": {
    "collapsed": false
   },
   "outputs": [
    {
     "data": {
      "text/html": [
       "<div>\n",
       "<table border=\"1\" class=\"dataframe\">\n",
       "  <thead>\n",
       "    <tr style=\"text-align: right;\">\n",
       "      <th></th>\n",
       "      <th>Sales</th>\n",
       "      <th>pr</th>\n",
       "    </tr>\n",
       "  </thead>\n",
       "  <tbody>\n",
       "    <tr>\n",
       "      <th>Sales</th>\n",
       "      <td>1.000000</td>\n",
       "      <td>0.624242</td>\n",
       "    </tr>\n",
       "    <tr>\n",
       "      <th>pr</th>\n",
       "      <td>0.624242</td>\n",
       "      <td>1.000000</td>\n",
       "    </tr>\n",
       "  </tbody>\n",
       "</table>\n",
       "</div>"
      ],
      "text/plain": [
       "          Sales        pr\n",
       "Sales  1.000000  0.624242\n",
       "pr     0.624242  1.000000"
      ]
     },
     "execution_count": 33,
     "metadata": {},
     "output_type": "execute_result"
    }
   ],
   "source": [
    "cs_new[['Sales','pr']].corr(method='spearman', min_periods=1)"
   ]
  },
  {
   "cell_type": "markdown",
   "metadata": {},
   "source": [
    "The correlations, whether Pearson or Spearman, between the sales and the auto-generated sentiment are slightly above 60%, much lower than the manual sentiment. We should probably train a emotion lookup dictionary with corpus specific to cars. For example, words such as 'safe' and 'fast' are regarded as strongly positive."
   ]
  }
 ],
 "metadata": {
  "anaconda-cloud": {},
  "kernelspec": {
   "display_name": "Python [Root]",
   "language": "python",
   "name": "Python [Root]"
  },
  "language_info": {
   "codemirror_mode": {
    "name": "ipython",
    "version": 2
   },
   "file_extension": ".py",
   "mimetype": "text/x-python",
   "name": "python",
   "nbconvert_exporter": "python",
   "pygments_lexer": "ipython2",
   "version": "2.7.12"
  }
 },
 "nbformat": 4,
 "nbformat_minor": 0
}
